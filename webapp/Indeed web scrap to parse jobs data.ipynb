{
 "cells": [
  {
   "cell_type": "code",
   "execution_count": 1,
   "metadata": {},
   "outputs": [],
   "source": [
    "import pandas as pd\n",
    "from bs4 import BeautifulSoup\n",
    "import requests\n",
    "import csv\n",
    "from time import sleep\n",
    "from random import randint\n",
    "from datetime import datetime\n",
    "import pprint"
   ]
  },
  {
   "cell_type": "code",
   "execution_count": null,
   "metadata": {},
   "outputs": [
    {
     "name": "stdout",
     "output_type": "stream",
     "text": [
      "https://www.indeed.com/jobs?q=python&l=New York\n",
      "https://www.indeed.com/jobs?q=python&l=New+York&start=10\n",
      "https://www.indeed.com/jobs?q=python&l=New+York&start=20\n",
      "https://www.indeed.com/jobs?q=python&l=New+York&start=30\n",
      "https://www.indeed.com/jobs?q=python&l=New+York&start=40\n",
      "https://www.indeed.com/jobs?q=python&l=New+York&start=50\n"
     ]
    }
   ],
   "source": [
    "headers = {\n",
    "    'accept': 'text/html,application/xhtml+xml,application/xml;q=0.9,image/webp,image/apng,*/*;q=0.8,application/signed-exchange;v=b3;q=0.9',\n",
    "    'accept-encoding': 'gzip, deflate, br',\n",
    "    'accept-language': 'en-US,en;q=0.9',\n",
    "    'cache-control': 'max-age=0',\n",
    "    'sec-fetch-dest': 'document',\n",
    "    'sec-fetch-mode': 'navigate',\n",
    "    'sec-fetch-site': 'none',\n",
    "    'sec-fetch-user': '?1',\n",
    "    'upgrade-insecure-requests': '1',\n",
    "    'user-agent': 'Mozilla/5.0 (Windows NT 10.0; Win64; x64) AppleWebKit/537.36 (KHTML, like Gecko) Chrome/87.0.4280.67 Safari/537.36 Edg/87.0.664.47'\n",
    "}\n",
    "\n",
    "def get_url(position, location):\n",
    "\n",
    "    '''\n",
    "    parses indeed and returns the (position, location)\n",
    "\n",
    "    '''\n",
    "    template = 'https://www.indeed.com/jobs?q={}&l={}'\n",
    "    url = template.format(position, location)\n",
    "    return url\n",
    "\n",
    "def get_record(card):\n",
    "    '''\n",
    "    Extract job data from a single record and returns job title, company, location, and url \n",
    "\n",
    "    '''\n",
    "    atag = card.h2.a\n",
    "    try:\n",
    "        job_title = atag.get('title')\n",
    "    except AttributeError:\n",
    "        job_title = ''\n",
    "    try:\n",
    "        company = card.find('span', 'company').text.strip()\n",
    "    except AttributeError:\n",
    "        company = ''\n",
    "    try:\n",
    "        location = card.find('div', 'recJobLoc').get('data-rc-loc')\n",
    "    except AttributeError:\n",
    "        location = ''\n",
    "    \n",
    "    \n",
    "    extract_date = datetime.today().strftime('%Y-%m-%d')\n",
    "    job_url = 'https://www.indeed.com' + atag.get('href')\n",
    "    \n",
    "    return (job_title, company, location, job_url)\n",
    "\n",
    "def main(position, location, limit=1):\n",
    "    # Run the main program reouting\n",
    "    records = []  # creating the record list\n",
    "    url = get_url(position, location)  # create the url while passing in the position and location.\n",
    "    \n",
    "    while True:\n",
    "        print(url)\n",
    "        response = requests.get(url, headers=headers)\n",
    "        soup = BeautifulSoup(response.text, 'html.parser')\n",
    "        cards = soup.find_all('div', 'jobsearch-SerpJobCard')\n",
    "        \n",
    "        for card in cards:\n",
    "            record = get_record(card)\n",
    "            records.append(record)\n",
    "\n",
    "        try:\n",
    "            url = 'https://www.indeed.com' + soup.find('a', {'aria-label': 'Next'}).get('href')\n",
    "            #delay = randint(1, 10)\n",
    "            #sleep(delay)\n",
    "        except AttributeError:\n",
    "            break\n",
    "         \n",
    "    with open('Indeed.csv', 'w', newline='', encoding='utf-8') as f:\n",
    "       writer = csv.writer(f)\n",
    "       writer.writerow(['Job Title', 'Company', 'Location', 'Job Url'])\n",
    "       writer.writerows(records)\n",
    "\n",
    "main('python', 'New York')"
   ]
  },
  {
   "cell_type": "code",
   "execution_count": null,
   "metadata": {},
   "outputs": [],
   "source": [
    "pd.read_csv('Indeed.csv')"
   ]
  },
  {
   "cell_type": "code",
   "execution_count": null,
   "metadata": {},
   "outputs": [],
   "source": []
  }
 ],
 "metadata": {
  "kernelspec": {
   "display_name": "Python 3",
   "language": "python",
   "name": "python3"
  },
  "language_info": {
   "codemirror_mode": {
    "name": "ipython",
    "version": 3
   },
   "file_extension": ".py",
   "mimetype": "text/x-python",
   "name": "python",
   "nbconvert_exporter": "python",
   "pygments_lexer": "ipython3",
   "version": "3.8.5"
  }
 },
 "nbformat": 4,
 "nbformat_minor": 4
}
